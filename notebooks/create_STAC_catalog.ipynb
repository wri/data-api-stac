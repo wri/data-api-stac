{
 "cells": [
  {
   "cell_type": "markdown",
   "id": "c4b06fbd-3e57-4908-a71b-ca16b9264cfb",
   "metadata": {},
   "source": [
    "## Data API STAC Catalog"
   ]
  },
  {
   "cell_type": "code",
   "execution_count": 1,
   "id": "5a2ebf41-f3e8-4146-b596-3e7382c47ff5",
   "metadata": {},
   "outputs": [],
   "source": [
    "import rasterio\n",
    "import pystac\n",
    "import boto3\n",
    "import pandas as pd\n",
    "import json\n",
    "import datetime\n",
    "\n",
    "from shapely.ops import unary_union\n",
    "from shapely.geometry import shape\n",
    "\n",
    "from pystac.extensions.raster import RasterExtension, RasterBand\n",
    "from pystac.extensions.projection import ProjectionExtension\n",
    "\n",
    "from stac_validator import stac_validator\n"
   ]
  },
  {
   "cell_type": "markdown",
   "id": "3df2831e-7cad-469a-8c21-832a093fc46c",
   "metadata": {},
   "source": [
    "This notebook creates a static STAC catalog for a Data API dataset version whose details are specified in next cell.\n",
    "\n",
    "Credentials to S3 bucket should be available to the notebook (e.g., via AWS_PROFILE env variable) to read dataset's tiles.geojson "
   ]
  },
  {
   "cell_type": "code",
   "execution_count": 2,
   "id": "dff10447-f31a-45b3-bea8-6356853b47c8",
   "metadata": {},
   "outputs": [],
   "source": [
    "BUCKET = 'gfw-data-lake-dev'\n",
    "dataset = 'umd_glad_sentinel2_alerts'\n",
    "version = 'v20220104'\n",
    "epsg = '4326'\n",
    "start_datetime = datetime.datetime(2000, 1, 1)\n",
    "item_datetime = datetime.datetime(2022, 1, 17)\n",
    "tiles_base = f'{dataset}/{version}/raster/epsg-4326/10/100000/date_conf/gdal-geotiff'\n",
    "tiles_key = f'{tiles_base}/tiles.geojson'"
   ]
  },
  {
   "cell_type": "code",
   "execution_count": 3,
   "id": "8628bf1d-8afc-4763-b7e4-922f75778cf4",
   "metadata": {},
   "outputs": [],
   "source": [
    "\n",
    "stac_extensions = [\n",
    "     'https://stac-extensions.github.io/raster/v1.0.0/schema.json',\n",
    "     'https://stac-extensions.github.io/projection/v1.0.0/schema.json'\n",
    "]"
   ]
  },
  {
   "cell_type": "markdown",
   "id": "50b59019-bbba-414e-ab74-edd9b24ba10b",
   "metadata": {},
   "source": [
    "### Read tiles.geojson for a tile set which has the metadata to build a STAC asset for a dataset version"
   ]
  },
  {
   "cell_type": "code",
   "execution_count": 4,
   "id": "2847715b-bd8d-419f-85b1-fb35c99fadd1",
   "metadata": {},
   "outputs": [],
   "source": [
    "s3 = boto3.client('s3')\n",
    "\n",
    "resp = s3.get_object(Key=tiles_key, Bucket=BUCKET)\n",
    "geojson = json.load(resp['Body'])\n",
    "\n",
    "df = pd.DataFrame(geojson['features'])"
   ]
  },
  {
   "cell_type": "markdown",
   "id": "6af8e7dd-fef9-415f-845e-6ec82ba0ada6",
   "metadata": {},
   "source": [
    "### Create the root STAC Catalog"
   ]
  },
  {
   "cell_type": "code",
   "execution_count": 5,
   "id": "a7b5c5ad-0504-41e2-9e71-eeab7bfdaae6",
   "metadata": {},
   "outputs": [],
   "source": [
    "catalog = pystac.Catalog(\n",
    "    id='gfw',\n",
    "    description='WRI Global Forest Watch STAC catalog.',\n",
    "    href='./stac_example/catalog.json',\n",
    "    stac_extensions=stac_extensions,\n",
    "    catalog_type=pystac.CatalogType.SELF_CONTAINED\n",
    ")"
   ]
  },
  {
   "cell_type": "markdown",
   "id": "bad18533-dd64-429a-9078-6bf27e41fc7a",
   "metadata": {},
   "source": [
    "Create a standalone [collection](https://github.com/radiantearth/stac-spec/blob/4ecbabccefc66e6eb17858ae1492dffca66ab4bd/collection-spec/collection-spec.md#standalone-collections) for a dataset version with all the tiles as assets.\n",
    "Standalone collections are a good way of surfacing metadata\n",
    "that are the same across assets (projection, bands, time range, etc.)."
   ]
  },
  {
   "cell_type": "code",
   "execution_count": 6,
   "id": "a0fe088e-48b2-43ca-b2ba-134b58165ba5",
   "metadata": {},
   "outputs": [],
   "source": [
    "from shapely.ops import unary_union\n",
    "from shapely.geometry import shape\n",
    "\n",
    "def get_spatial_extent(items):\n",
    "    polygons = [shape(item.geometry) for item in items]\n",
    "    # Returns a union of the two geojson polygons for each item\n",
    "    unioned_geometry = unary_union(polygons)\n",
    "    \n",
    "    # Set the bbox to be the bounds of the unified polygon and return the spatial extent of the collection\n",
    "    return pystac.SpatialExtent(bboxes=[unioned_geometry.bounds])\n",
    "\n"
   ]
  },
  {
   "cell_type": "markdown",
   "id": "4b29762f-d8f4-4c25-9d2a-040314cdf171",
   "metadata": {},
   "source": [
    "### Create STAC item for each tile set"
   ]
  },
  {
   "cell_type": "code",
   "execution_count": 7,
   "id": "5ac7c8bf-769e-4a63-99a2-42ca22bb48c3",
   "metadata": {},
   "outputs": [
    {
     "name": "stdout",
     "output_type": "stream",
     "text": [
      "10N_050W\n",
      "10S_050W\n",
      "00N_040W\n",
      "00N_090W\n",
      "20N_070W\n",
      "10S_040W\n",
      "20N_080W\n",
      "10N_090W\n",
      "00N_050W\n",
      "10S_080W\n",
      "10N_060W\n",
      "10N_080W\n",
      "00N_080W\n",
      "10N_070W\n",
      "00N_070W\n",
      "00N_060W\n",
      "10S_070W\n",
      "10S_060W\n"
     ]
    }
   ],
   "source": [
    "items = []\n",
    "\n",
    "for _, tile in df.iterrows():\n",
    "    tile_id = tile.properties['name'].split('/')[-1].split('.')[0]\n",
    "    print(tile_id)\n",
    "    \n",
    "    item = pystac.Item(\n",
    "        id=tile_id,\n",
    "        geometry=tile.geometry,\n",
    "        bbox=tile.properties['extent'],\n",
    "        datetime=item_datetime,\n",
    "        href=f'./stac_example/{version}/{tile_id}-item.json',\n",
    "        properties={}\n",
    "    )\n",
    "    \n",
    "    item.stac_extensions = stac_extensions\n",
    "    \n",
    "    projection = ProjectionExtension.ext(item)\n",
    "    projection.epsg = '4326'\n",
    "    projection.shape = [ tile.properties['height'], tile.properties['width'] ]    # spec specifies shape in Y, X order\n",
    "    \n",
    "    asset_url = f'https://{BUCKET}.s3.amazonaws.com/{tiles_base}/{tile_id}.tif'\n",
    "    asset = pystac.Asset(\n",
    "        href=asset_url,\n",
    "        title=tile_id,\n",
    "        roles=[\"data\"],\n",
    "        media_type=pystac.MediaType.COG\n",
    "    )\n",
    "    raster = RasterExtension.ext(asset)\n",
    "    \n",
    "    raster.bands = [\n",
    "        RasterBand(\n",
    "            {\n",
    "                'data_type': band['data_type'],\n",
    "                'nodata': band['no_data'],\n",
    "                'spatial_resolution': tile.properties['pixelxsize'],\n",
    "                'statistics': {\n",
    "                    'minimum': (band.get('stats', {}).get('min') if isinstance(band['stats'], dict) else None),\n",
    "                    'maximum': band.get('stats', {}).get('max') if isinstance(band['stats'], dict) else None,\n",
    "                    'stddev': band.get('stats', {}).get('std_dev') if isinstance(band['stats'], dict) else None\n",
    "                }\n",
    "            }\n",
    "        ) for band in tile.properties['bands']\n",
    "\n",
    "    ]\n",
    "\n",
    "    item.add_asset(key=tile_id, asset=asset)\n",
    "    items.append(item)    \n",
    "    \n",
    "    "
   ]
  },
  {
   "cell_type": "markdown",
   "id": "25748601-ccb1-4679-9cda-bb6ad706b672",
   "metadata": {},
   "source": [
    "#### Create STAC collection for a dataset version and add it to the catalog with its items"
   ]
  },
  {
   "cell_type": "code",
   "execution_count": 8,
   "id": "1d567272-0603-49de-8636-62be4f586851",
   "metadata": {},
   "outputs": [],
   "source": [
    "version_collection = pystac.Collection(\n",
    "    id=version,\n",
    "    title='GLAD',\n",
    "    description=\"GLAD deforestation alert\",\n",
    "#     href='./stac_example/collection.json',\n",
    "    extent=pystac.collection.Extent(spatial=get_spatial_extent(items), temporal=pystac.collection.TemporalExtent(intervals=[[start_datetime, item_datetime]]))\n",
    ")\n",
    "\n",
    "version_collection.add_items(items)\n",
    "\n",
    "catalog.add_child(version_collection)"
   ]
  },
  {
   "cell_type": "markdown",
   "id": "0e209e85-f329-46e3-a16a-d9131f852967",
   "metadata": {},
   "source": [
    "Validate the catalog and its descendants"
   ]
  },
  {
   "cell_type": "code",
   "execution_count": 9,
   "id": "74b41401-3950-4249-8451-405802985389",
   "metadata": {},
   "outputs": [
    {
     "data": {
      "text/plain": [
       "[{'version': '1.0.0',\n",
       "  'path': '/Users/solomon.negusse/wri/data-api-examples/stac_example/catalog.json',\n",
       "  'schema': ['https://schemas.stacspec.org/v1.0.0/catalog-spec/json-schema/catalog.json'],\n",
       "  'valid_stac': True,\n",
       "  'asset_type': 'CATALOG',\n",
       "  'validation_method': 'recursive'},\n",
       " {'version': '1.0.0',\n",
       "  'path': '/Users/solomon.negusse/wri/data-api-examples/stac_example/./v20220127/collection.json',\n",
       "  'schema': ['https://schemas.stacspec.org/v1.0.0/collection-spec/json-schema/collection.json'],\n",
       "  'valid_stac': True,\n",
       "  'asset_type': 'COLLECTION',\n",
       "  'validation_method': 'recursive'},\n",
       " {'version': '1.0.0',\n",
       "  'path': '/Users/solomon.negusse/wri/data-api-examples/stac_example/./v20220127/./10N_050W-item.json',\n",
       "  'schema': ['https://stac-extensions.github.io/projection/v1.0.0/schema.json',\n",
       "   'https://schemas.stacspec.org/v1.0.0/item-spec/json-schema/item.json'],\n",
       "  'valid_stac': True,\n",
       "  'asset_type': 'ITEM',\n",
       "  'validation_method': 'recursive'},\n",
       " {'version': '1.0.0',\n",
       "  'path': '/Users/solomon.negusse/wri/data-api-examples/stac_example/./v20220127/./10N_090W-item.json',\n",
       "  'schema': ['https://stac-extensions.github.io/projection/v1.0.0/schema.json',\n",
       "   'https://schemas.stacspec.org/v1.0.0/item-spec/json-schema/item.json'],\n",
       "  'valid_stac': True,\n",
       "  'asset_type': 'ITEM',\n",
       "  'validation_method': 'recursive'},\n",
       " {'version': '1.0.0',\n",
       "  'path': '/Users/solomon.negusse/wri/data-api-examples/stac_example/./v20220127/./00N_040W-item.json',\n",
       "  'schema': ['https://stac-extensions.github.io/raster/v1.0.0/schema.json',\n",
       "   'https://schemas.stacspec.org/v1.0.0/item-spec/json-schema/item.json'],\n",
       "  'valid_stac': True,\n",
       "  'asset_type': 'ITEM',\n",
       "  'validation_method': 'recursive'},\n",
       " {'version': '1.0.0',\n",
       "  'path': '/Users/solomon.negusse/wri/data-api-examples/stac_example/./v20220127/./10S_040W-item.json',\n",
       "  'schema': ['https://stac-extensions.github.io/raster/v1.0.0/schema.json',\n",
       "   'https://schemas.stacspec.org/v1.0.0/item-spec/json-schema/item.json'],\n",
       "  'valid_stac': True,\n",
       "  'asset_type': 'ITEM',\n",
       "  'validation_method': 'recursive'},\n",
       " {'version': '1.0.0',\n",
       "  'path': '/Users/solomon.negusse/wri/data-api-examples/stac_example/./v20220127/./20N_080W-item.json',\n",
       "  'schema': ['https://stac-extensions.github.io/projection/v1.0.0/schema.json',\n",
       "   'https://schemas.stacspec.org/v1.0.0/item-spec/json-schema/item.json'],\n",
       "  'valid_stac': True,\n",
       "  'asset_type': 'ITEM',\n",
       "  'validation_method': 'recursive'},\n",
       " {'version': '1.0.0',\n",
       "  'path': '/Users/solomon.negusse/wri/data-api-examples/stac_example/./v20220127/./00N_090W-item.json',\n",
       "  'schema': ['https://stac-extensions.github.io/projection/v1.0.0/schema.json',\n",
       "   'https://schemas.stacspec.org/v1.0.0/item-spec/json-schema/item.json'],\n",
       "  'valid_stac': True,\n",
       "  'asset_type': 'ITEM',\n",
       "  'validation_method': 'recursive'},\n",
       " {'version': '1.0.0',\n",
       "  'path': '/Users/solomon.negusse/wri/data-api-examples/stac_example/./v20220127/./20N_070W-item.json',\n",
       "  'schema': ['https://stac-extensions.github.io/projection/v1.0.0/schema.json',\n",
       "   'https://schemas.stacspec.org/v1.0.0/item-spec/json-schema/item.json'],\n",
       "  'valid_stac': True,\n",
       "  'asset_type': 'ITEM',\n",
       "  'validation_method': 'recursive'},\n",
       " {'version': '1.0.0',\n",
       "  'path': '/Users/solomon.negusse/wri/data-api-examples/stac_example/./v20220127/./10S_050W-item.json',\n",
       "  'schema': ['https://stac-extensions.github.io/raster/v1.0.0/schema.json',\n",
       "   'https://schemas.stacspec.org/v1.0.0/item-spec/json-schema/item.json'],\n",
       "  'valid_stac': True,\n",
       "  'asset_type': 'ITEM',\n",
       "  'validation_method': 'recursive'},\n",
       " {'version': '1.0.0',\n",
       "  'path': '/Users/solomon.negusse/wri/data-api-examples/stac_example/./v20220127/./00N_050W-item.json',\n",
       "  'schema': ['https://stac-extensions.github.io/projection/v1.0.0/schema.json',\n",
       "   'https://schemas.stacspec.org/v1.0.0/item-spec/json-schema/item.json'],\n",
       "  'valid_stac': True,\n",
       "  'asset_type': 'ITEM',\n",
       "  'validation_method': 'recursive'},\n",
       " {'version': '1.0.0',\n",
       "  'path': '/Users/solomon.negusse/wri/data-api-examples/stac_example/./v20220127/./10S_080W-item.json',\n",
       "  'schema': ['https://stac-extensions.github.io/projection/v1.0.0/schema.json',\n",
       "   'https://schemas.stacspec.org/v1.0.0/item-spec/json-schema/item.json'],\n",
       "  'valid_stac': True,\n",
       "  'asset_type': 'ITEM',\n",
       "  'validation_method': 'recursive'},\n",
       " {'version': '1.0.0',\n",
       "  'path': '/Users/solomon.negusse/wri/data-api-examples/stac_example/./v20220127/./10N_060W-item.json',\n",
       "  'schema': ['https://stac-extensions.github.io/projection/v1.0.0/schema.json',\n",
       "   'https://schemas.stacspec.org/v1.0.0/item-spec/json-schema/item.json'],\n",
       "  'valid_stac': True,\n",
       "  'asset_type': 'ITEM',\n",
       "  'validation_method': 'recursive'},\n",
       " {'version': '1.0.0',\n",
       "  'path': '/Users/solomon.negusse/wri/data-api-examples/stac_example/./v20220127/./10N_080W-item.json',\n",
       "  'schema': ['https://stac-extensions.github.io/projection/v1.0.0/schema.json',\n",
       "   'https://schemas.stacspec.org/v1.0.0/item-spec/json-schema/item.json'],\n",
       "  'valid_stac': True,\n",
       "  'asset_type': 'ITEM',\n",
       "  'validation_method': 'recursive'},\n",
       " {'version': '1.0.0',\n",
       "  'path': '/Users/solomon.negusse/wri/data-api-examples/stac_example/./v20220127/./10N_070W-item.json',\n",
       "  'schema': ['https://stac-extensions.github.io/projection/v1.0.0/schema.json',\n",
       "   'https://schemas.stacspec.org/v1.0.0/item-spec/json-schema/item.json'],\n",
       "  'valid_stac': True,\n",
       "  'asset_type': 'ITEM',\n",
       "  'validation_method': 'recursive'},\n",
       " {'version': '1.0.0',\n",
       "  'path': '/Users/solomon.negusse/wri/data-api-examples/stac_example/./v20220127/./00N_080W-item.json',\n",
       "  'schema': ['https://stac-extensions.github.io/projection/v1.0.0/schema.json',\n",
       "   'https://schemas.stacspec.org/v1.0.0/item-spec/json-schema/item.json'],\n",
       "  'valid_stac': True,\n",
       "  'asset_type': 'ITEM',\n",
       "  'validation_method': 'recursive'},\n",
       " {'version': '1.0.0',\n",
       "  'path': '/Users/solomon.negusse/wri/data-api-examples/stac_example/./v20220127/./00N_070W-item.json',\n",
       "  'schema': ['https://stac-extensions.github.io/projection/v1.0.0/schema.json',\n",
       "   'https://schemas.stacspec.org/v1.0.0/item-spec/json-schema/item.json'],\n",
       "  'valid_stac': True,\n",
       "  'asset_type': 'ITEM',\n",
       "  'validation_method': 'recursive'},\n",
       " {'version': '1.0.0',\n",
       "  'path': '/Users/solomon.negusse/wri/data-api-examples/stac_example/./v20220127/./00N_060W-item.json',\n",
       "  'schema': ['https://stac-extensions.github.io/projection/v1.0.0/schema.json',\n",
       "   'https://schemas.stacspec.org/v1.0.0/item-spec/json-schema/item.json'],\n",
       "  'valid_stac': True,\n",
       "  'asset_type': 'ITEM',\n",
       "  'validation_method': 'recursive'},\n",
       " {'version': '1.0.0',\n",
       "  'path': '/Users/solomon.negusse/wri/data-api-examples/stac_example/./v20220127/./10S_070W-item.json',\n",
       "  'schema': ['https://stac-extensions.github.io/projection/v1.0.0/schema.json',\n",
       "   'https://schemas.stacspec.org/v1.0.0/item-spec/json-schema/item.json'],\n",
       "  'valid_stac': True,\n",
       "  'asset_type': 'ITEM',\n",
       "  'validation_method': 'recursive'},\n",
       " {'version': '1.0.0',\n",
       "  'path': '/Users/solomon.negusse/wri/data-api-examples/stac_example/./v20220127/./10S_060W-item.json',\n",
       "  'schema': ['https://stac-extensions.github.io/projection/v1.0.0/schema.json',\n",
       "   'https://schemas.stacspec.org/v1.0.0/item-spec/json-schema/item.json'],\n",
       "  'valid_stac': True,\n",
       "  'asset_type': 'ITEM',\n",
       "  'validation_method': 'recursive'}]"
      ]
     },
     "execution_count": 9,
     "metadata": {},
     "output_type": "execute_result"
    }
   ],
   "source": [
    "stac = stac_validator.StacValidate(catalog.get_self_href(), recursive=-1)\n",
    "stac.run()\n",
    "validation_check = [message for message in stac.message]\n",
    "validation_check"
   ]
  },
  {
   "cell_type": "markdown",
   "id": "a26b7c3e-86df-4437-851c-8f57e3a66be1",
   "metadata": {},
   "source": [
    "#### Save catalog and its children to disk"
   ]
  },
  {
   "cell_type": "code",
   "execution_count": 10,
   "id": "786ffad1-352f-440f-a425-bb7132baff9e",
   "metadata": {},
   "outputs": [],
   "source": [
    "version_collection.save_object(include_self_link=False)\n",
    "\n",
    "# item.save_object(include_self_link=False, dest_href=f'./stac_example/{version}/{tile_id}.json')\n",
    "for item in items:\n",
    "    item.save_object(include_self_link=False)\n",
    "\n",
    "catalog.save_object()"
   ]
  },
  {
   "cell_type": "markdown",
   "id": "c853877b-7a3e-40fb-90ba-15ff82e11b18",
   "metadata": {},
   "source": [
    "#### Read the catalog back from disk and make sure items and collection look correct"
   ]
  },
  {
   "cell_type": "code",
   "execution_count": 11,
   "id": "0145583f-2209-4d23-b9c6-1fbcf6831de8",
   "metadata": {},
   "outputs": [],
   "source": [
    "cat = pystac.catalog.Catalog.from_file('./stac_example/catalog.json')"
   ]
  },
  {
   "cell_type": "code",
   "execution_count": 15,
   "id": "76a27b8d-1ef5-4e0e-9dad-6ac17499394d",
   "metadata": {},
   "outputs": [
    {
     "name": "stdout",
     "output_type": "stream",
     "text": [
      "GLAD\n"
     ]
    }
   ],
   "source": [
    "item = next(cat.get_all_items())\n",
    "collection = next(cat.get_all_collections())\n",
    "print(collection.title)"
   ]
  },
  {
   "cell_type": "code",
   "execution_count": 13,
   "id": "cde5a744-5bd5-4a26-9ec9-1320126a1cdd",
   "metadata": {},
   "outputs": [],
   "source": [
    "# print(item.to_dict())\n",
    "# print(collection.to_dict())"
   ]
  }
 ],
 "metadata": {
  "kernelspec": {
   "display_name": "Python 3 (ipykernel)",
   "language": "python",
   "name": "python3"
  },
  "language_info": {
   "codemirror_mode": {
    "name": "ipython",
    "version": 3
   },
   "file_extension": ".py",
   "mimetype": "text/x-python",
   "name": "python",
   "nbconvert_exporter": "python",
   "pygments_lexer": "ipython3",
   "version": "3.8.10"
  }
 },
 "nbformat": 4,
 "nbformat_minor": 5
}
